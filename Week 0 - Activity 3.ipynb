{
 "cells": [
  {
   "cell_type": "code",
   "execution_count": 188,
   "id": "7e40e3ed",
   "metadata": {},
   "outputs": [],
   "source": [
    "import pandas as pd\n",
    "import dataframe_image as dfi"
   ]
  },
  {
   "cell_type": "code",
   "execution_count": 189,
   "id": "dac7cec8",
   "metadata": {},
   "outputs": [
    {
     "data": {
      "text/html": [
       "<div>\n",
       "<style scoped>\n",
       "    .dataframe tbody tr th:only-of-type {\n",
       "        vertical-align: middle;\n",
       "    }\n",
       "\n",
       "    .dataframe tbody tr th {\n",
       "        vertical-align: top;\n",
       "    }\n",
       "\n",
       "    .dataframe thead th {\n",
       "        text-align: right;\n",
       "    }\n",
       "</style>\n",
       "<table border=\"1\" class=\"dataframe\">\n",
       "  <thead>\n",
       "    <tr style=\"text-align: right;\">\n",
       "      <th></th>\n",
       "      <th>date_GMT</th>\n",
       "      <th>attendance</th>\n",
       "      <th>home_team_name</th>\n",
       "      <th>away_team_name</th>\n",
       "      <th>referee</th>\n",
       "      <th>Game Week</th>\n",
       "      <th>total_goal_count</th>\n",
       "      <th>home_team_goal_count</th>\n",
       "      <th>away_team_goal_count</th>\n",
       "      <th>stadium_name</th>\n",
       "    </tr>\n",
       "  </thead>\n",
       "  <tbody>\n",
       "    <tr>\n",
       "      <th>0</th>\n",
       "      <td>Aug 10 2018 - 7:00pm</td>\n",
       "      <td>74439.0</td>\n",
       "      <td>Manchester United</td>\n",
       "      <td>Leicester City</td>\n",
       "      <td>Andre Marriner</td>\n",
       "      <td>1.0</td>\n",
       "      <td>3.0</td>\n",
       "      <td>2.0</td>\n",
       "      <td>1.0</td>\n",
       "      <td>Old Trafford (Manchester)</td>\n",
       "    </tr>\n",
       "    <tr>\n",
       "      <th>1</th>\n",
       "      <td>Aug 11 2018 - 11:30am</td>\n",
       "      <td>51749.0</td>\n",
       "      <td>Newcastle United</td>\n",
       "      <td>Tottenham Hotspur</td>\n",
       "      <td>Martin Atkinson</td>\n",
       "      <td>1.0</td>\n",
       "      <td>3.0</td>\n",
       "      <td>1.0</td>\n",
       "      <td>2.0</td>\n",
       "      <td>St. James' Park (Newcastle upon Tyne)</td>\n",
       "    </tr>\n",
       "    <tr>\n",
       "      <th>2</th>\n",
       "      <td>Aug 11 2018 - 2:00pm</td>\n",
       "      <td>10353.0</td>\n",
       "      <td>AFC Bournemouth</td>\n",
       "      <td>Cardiff City</td>\n",
       "      <td>Kevin Friend</td>\n",
       "      <td>1.0</td>\n",
       "      <td>2.0</td>\n",
       "      <td>2.0</td>\n",
       "      <td>0.0</td>\n",
       "      <td>Vitality Stadium (Bournemouth- Dorset)</td>\n",
       "    </tr>\n",
       "    <tr>\n",
       "      <th>3</th>\n",
       "      <td>Aug 11 2018 - 2:00pm</td>\n",
       "      <td>24821.0</td>\n",
       "      <td>Fulham</td>\n",
       "      <td>Crystal Palace</td>\n",
       "      <td>Mike Dean</td>\n",
       "      <td>1.0</td>\n",
       "      <td>2.0</td>\n",
       "      <td>0.0</td>\n",
       "      <td>2.0</td>\n",
       "      <td>Craven Cottage (London)</td>\n",
       "    </tr>\n",
       "    <tr>\n",
       "      <th>4</th>\n",
       "      <td>Aug 11 2018 - 2:00pm</td>\n",
       "      <td>24121.0</td>\n",
       "      <td>Huddersfield Town</td>\n",
       "      <td>Chelsea</td>\n",
       "      <td>Chris Kavanagh</td>\n",
       "      <td>1.0</td>\n",
       "      <td>3.0</td>\n",
       "      <td>0.0</td>\n",
       "      <td>3.0</td>\n",
       "      <td>John Smith's Stadium (Huddersfield- West Yorks...</td>\n",
       "    </tr>\n",
       "    <tr>\n",
       "      <th>...</th>\n",
       "      <td>...</td>\n",
       "      <td>...</td>\n",
       "      <td>...</td>\n",
       "      <td>...</td>\n",
       "      <td>...</td>\n",
       "      <td>...</td>\n",
       "      <td>...</td>\n",
       "      <td>...</td>\n",
       "      <td>...</td>\n",
       "      <td>...</td>\n",
       "    </tr>\n",
       "    <tr>\n",
       "      <th>375</th>\n",
       "      <td>May 12 2019 - 2:00pm</td>\n",
       "      <td>53331.0</td>\n",
       "      <td>Liverpool</td>\n",
       "      <td>Wolverhampton Wanderers</td>\n",
       "      <td>Martin Atkinson</td>\n",
       "      <td>38.0</td>\n",
       "      <td>2.0</td>\n",
       "      <td>2.0</td>\n",
       "      <td>0.0</td>\n",
       "      <td>Anfield (Liverpool)</td>\n",
       "    </tr>\n",
       "    <tr>\n",
       "      <th>376</th>\n",
       "      <td>May 12 2019 - 2:00pm</td>\n",
       "      <td>74457.0</td>\n",
       "      <td>Manchester United</td>\n",
       "      <td>Cardiff City</td>\n",
       "      <td>Jonathan Moss</td>\n",
       "      <td>38.0</td>\n",
       "      <td>2.0</td>\n",
       "      <td>0.0</td>\n",
       "      <td>2.0</td>\n",
       "      <td>Old Trafford (Manchester)</td>\n",
       "    </tr>\n",
       "    <tr>\n",
       "      <th>377</th>\n",
       "      <td>May 12 2019 - 2:00pm</td>\n",
       "      <td>30367.0</td>\n",
       "      <td>Southampton</td>\n",
       "      <td>Huddersfield Town</td>\n",
       "      <td>Lee Probert</td>\n",
       "      <td>38.0</td>\n",
       "      <td>2.0</td>\n",
       "      <td>1.0</td>\n",
       "      <td>1.0</td>\n",
       "      <td>St. Mary's Stadium (Southampton- Hampshire)</td>\n",
       "    </tr>\n",
       "    <tr>\n",
       "      <th>378</th>\n",
       "      <td>May 12 2019 - 2:00pm</td>\n",
       "      <td>60124.0</td>\n",
       "      <td>Tottenham Hotspur</td>\n",
       "      <td>Everton</td>\n",
       "      <td>Andre Marriner</td>\n",
       "      <td>38.0</td>\n",
       "      <td>4.0</td>\n",
       "      <td>2.0</td>\n",
       "      <td>2.0</td>\n",
       "      <td>Tottenham Hotspur Stadium (London)</td>\n",
       "    </tr>\n",
       "    <tr>\n",
       "      <th>379</th>\n",
       "      <td>May 12 2019 - 2:00pm</td>\n",
       "      <td>20067.0</td>\n",
       "      <td>Watford</td>\n",
       "      <td>West Ham United</td>\n",
       "      <td>Chris Kavanagh</td>\n",
       "      <td>38.0</td>\n",
       "      <td>5.0</td>\n",
       "      <td>1.0</td>\n",
       "      <td>4.0</td>\n",
       "      <td>Vicarage Road (Watford)</td>\n",
       "    </tr>\n",
       "  </tbody>\n",
       "</table>\n",
       "<p>380 rows × 10 columns</p>\n",
       "</div>"
      ],
      "text/plain": [
       "                  date_GMT  attendance     home_team_name  \\\n",
       "0     Aug 10 2018 - 7:00pm     74439.0  Manchester United   \n",
       "1    Aug 11 2018 - 11:30am     51749.0   Newcastle United   \n",
       "2     Aug 11 2018 - 2:00pm     10353.0    AFC Bournemouth   \n",
       "3     Aug 11 2018 - 2:00pm     24821.0             Fulham   \n",
       "4     Aug 11 2018 - 2:00pm     24121.0  Huddersfield Town   \n",
       "..                     ...         ...                ...   \n",
       "375   May 12 2019 - 2:00pm     53331.0          Liverpool   \n",
       "376   May 12 2019 - 2:00pm     74457.0  Manchester United   \n",
       "377   May 12 2019 - 2:00pm     30367.0        Southampton   \n",
       "378   May 12 2019 - 2:00pm     60124.0  Tottenham Hotspur   \n",
       "379   May 12 2019 - 2:00pm     20067.0            Watford   \n",
       "\n",
       "              away_team_name          referee  Game Week  total_goal_count  \\\n",
       "0             Leicester City   Andre Marriner        1.0               3.0   \n",
       "1          Tottenham Hotspur  Martin Atkinson        1.0               3.0   \n",
       "2               Cardiff City     Kevin Friend        1.0               2.0   \n",
       "3             Crystal Palace        Mike Dean        1.0               2.0   \n",
       "4                    Chelsea   Chris Kavanagh        1.0               3.0   \n",
       "..                       ...              ...        ...               ...   \n",
       "375  Wolverhampton Wanderers  Martin Atkinson       38.0               2.0   \n",
       "376             Cardiff City    Jonathan Moss       38.0               2.0   \n",
       "377        Huddersfield Town      Lee Probert       38.0               2.0   \n",
       "378                  Everton   Andre Marriner       38.0               4.0   \n",
       "379          West Ham United   Chris Kavanagh       38.0               5.0   \n",
       "\n",
       "     home_team_goal_count  away_team_goal_count  \\\n",
       "0                     2.0                   1.0   \n",
       "1                     1.0                   2.0   \n",
       "2                     2.0                   0.0   \n",
       "3                     0.0                   2.0   \n",
       "4                     0.0                   3.0   \n",
       "..                    ...                   ...   \n",
       "375                   2.0                   0.0   \n",
       "376                   0.0                   2.0   \n",
       "377                   1.0                   1.0   \n",
       "378                   2.0                   2.0   \n",
       "379                   1.0                   4.0   \n",
       "\n",
       "                                          stadium_name  \n",
       "0                            Old Trafford (Manchester)  \n",
       "1                St. James' Park (Newcastle upon Tyne)  \n",
       "2               Vitality Stadium (Bournemouth- Dorset)  \n",
       "3                              Craven Cottage (London)  \n",
       "4    John Smith's Stadium (Huddersfield- West Yorks...  \n",
       "..                                                 ...  \n",
       "375                                Anfield (Liverpool)  \n",
       "376                          Old Trafford (Manchester)  \n",
       "377        St. Mary's Stadium (Southampton- Hampshire)  \n",
       "378                 Tottenham Hotspur Stadium (London)  \n",
       "379                            Vicarage Road (Watford)  \n",
       "\n",
       "[380 rows x 10 columns]"
      ]
     },
     "execution_count": 189,
     "metadata": {},
     "output_type": "execute_result"
    }
   ],
   "source": [
    "df=pd.read_excel('england-premier-league-matches-2018-to-2019-stats.xlsx')#Creating a pandas dataframe using the excel file\n",
    "df"
   ]
  },
  {
   "cell_type": "code",
   "execution_count": 190,
   "id": "f09d395b",
   "metadata": {},
   "outputs": [
    {
     "name": "stdout",
     "output_type": "stream",
     "text": [
      "Total number of matches: 380\n",
      "0      3.0\n",
      "1      3.0\n",
      "2      2.0\n",
      "3      2.0\n",
      "4      3.0\n",
      "      ... \n",
      "375    2.0\n",
      "376    2.0\n",
      "377    2.0\n",
      "378    4.0\n",
      "379    5.0\n",
      "Name: total_goal_count, Length: 380, dtype: float64\n"
     ]
    }
   ],
   "source": [
    "goal_count=df['total_goal_count']\n",
    "n=len(goal_count)\n",
    "print('Total number of matches:',n)\n",
    "print(goal_count)"
   ]
  },
  {
   "cell_type": "code",
   "execution_count": 191,
   "id": "b6eed116",
   "metadata": {},
   "outputs": [
    {
     "data": {
      "text/plain": [
       "2.8210526315789473"
      ]
     },
     "execution_count": 191,
     "metadata": {},
     "output_type": "execute_result"
    }
   ],
   "source": [
    "sum_goals=0\n",
    "for i in range(len(goal_count)):\n",
    "    sum_goals+=goal_count[i]\n",
    "rate=sum_goals/n\n",
    "rate # value of 𝜆"
   ]
  },
  {
   "cell_type": "code",
   "execution_count": 192,
   "id": "8a3233ca",
   "metadata": {},
   "outputs": [
    {
     "name": "stderr",
     "output_type": "stream",
     "text": [
      "[1012/072413.798481:ERROR:xattr.cc(63)] setxattr org.chromium.crashpad.database.initialized on file /var/folders/dv/8fd5wvd51f943n2b5_n527880000gn/T/: Operation not permitted (1)\n",
      "[1012/072413.799657:ERROR:file_io.cc(91)] ReadExactly: expected 8, observed 0\n",
      "[1012/072413.800370:ERROR:xattr.cc(63)] setxattr org.chromium.crashpad.database.initialized on file /var/folders/dv/8fd5wvd51f943n2b5_n527880000gn/T/: Operation not permitted (1)\n",
      "[1012/072414.369603:INFO:headless_shell.cc(653)] Written to file /var/folders/dv/8fd5wvd51f943n2b5_n527880000gn/T/tmpmos_iqok/temp.png.\n"
     ]
    },
    {
     "name": "stdout",
     "output_type": "stream",
     "text": [
      "   Number of goals  Number of matches\n",
      "0                0                 22\n",
      "1                1                 55\n",
      "2                2                 99\n",
      "3                3                 84\n",
      "4                4                 65\n",
      "5                5                 32\n",
      "6                6                 16\n",
      "7                7                  5\n",
      "8                8                  2\n"
     ]
    }
   ],
   "source": [
    "d={}\n",
    "#Creating a dictionary with X=number of goals as keys and the frequencies as values\n",
    "for i in range(len(goal_count)):\n",
    "    if int(goal_count[i]) not in d:\n",
    "        d[int(goal_count[i])]=0\n",
    "    d[int(goal_count[i])]+=1\n",
    "#Creating a dataframe with the headers given below and storing its image locally\n",
    "headers=['Number of goals','Number of matches']\n",
    "l=sorted(d.keys())\n",
    "d_goal_frequency={'Number of goals':[key for key in l],'Number of matches':[d[key] for key in l]}\n",
    "df_goal_frequency=pd.DataFrame(d_goal_frequency)\n",
    "dfi.export(df_goal_frequency,'goal_frequency.png')\n",
    "print(df_goal_frequency)\n"
   ]
  },
  {
   "cell_type": "markdown",
   "id": "d3855e7a",
   "metadata": {},
   "source": [
    "# Calculation of Experimental Probability"
   ]
  },
  {
   "cell_type": "code",
   "execution_count": 193,
   "id": "9fa3ecef",
   "metadata": {},
   "outputs": [
    {
     "data": {
      "text/plain": [
       "{3: 0.22105263157894736,\n",
       " 2: 0.26052631578947366,\n",
       " 4: 0.17105263157894737,\n",
       " 0: 0.05789473684210526,\n",
       " 5: 0.08421052631578947,\n",
       " 7: 0.013157894736842105,\n",
       " 1: 0.14473684210526316,\n",
       " 6: 0.042105263157894736,\n",
       " 8: 0.005263157894736842}"
      ]
     },
     "execution_count": 193,
     "metadata": {},
     "output_type": "execute_result"
    }
   ],
   "source": [
    "#Creating a dictionary with values of X as keys and the corresponding probabilities as values\n",
    "d={num_goals:(num_matches/n) for num_goals,num_matches in d.items()}\n",
    "d"
   ]
  },
  {
   "cell_type": "markdown",
   "id": "3dfb4717",
   "metadata": {},
   "source": [
    "## Calculation of $\\lambda$"
   ]
  },
  {
   "cell_type": "code",
   "execution_count": 194,
   "id": "51be643d",
   "metadata": {},
   "outputs": [
    {
     "name": "stdout",
     "output_type": "stream",
     "text": [
      "λ = 2.8210526315789473\n"
     ]
    }
   ],
   "source": [
    "sum_goals=0\n",
    "for i in range(len(goal_count)):\n",
    "    sum_goals+=goal_count[i]\n",
    "rate=sum_goals/n\n",
    "print('\\u03BB =',rate) "
   ]
  },
  {
   "cell_type": "markdown",
   "id": "f48041a3",
   "metadata": {},
   "source": [
    "# Calculation of Probabilities using Poisson distribution"
   ]
  },
  {
   "cell_type": "code",
   "execution_count": 195,
   "id": "98e6e203",
   "metadata": {},
   "outputs": [
    {
     "data": {
      "text/plain": [
       "{3: 0.22279976313096386,\n",
       " 2: 0.23693258392658473,\n",
       " 4: 0.15713246452394294,\n",
       " 0: 0.059543232622450086,\n",
       " 5: 0.08865579051035095,\n",
       " 7: 0.016798874812334646,\n",
       " 1: 0.16797459308228024,\n",
       " 6: 0.041683775187322906,\n",
       " 8: 0.005923813749612743}"
      ]
     },
     "execution_count": 195,
     "metadata": {},
     "output_type": "execute_result"
    }
   ],
   "source": [
    "#Creating a dictionary with values of X as keys and the corresponding theoretical probabilities as values\n",
    "#calculated using Pois(𝜆) distribution with  𝜆 = 2.8210526315789473\n",
    "d_poisson={}\n",
    "for key in d:\n",
    "    d_poisson[key]=(np.exp(-rate)*rate**key)/np.math.factorial(int(key))\n",
    "d_poisson"
   ]
  },
  {
   "cell_type": "markdown",
   "id": "1b37edee",
   "metadata": {},
   "source": [
    "# Plots"
   ]
  },
  {
   "cell_type": "code",
   "execution_count": 196,
   "id": "72087936",
   "metadata": {},
   "outputs": [
    {
     "data": {
      "image/png": "[encoded data removed]",
      "text/plain": [
       "<Figure size 432x288 with 1 Axes>"
      ]
     },
     "metadata": {
      "needs_background": "light"
     },
     "output_type": "display_data"
    }
   ],
   "source": [
    "comp_df=pd.DataFrame()\n",
    "headers=['X=Number of Goals', 'Experimental Probability','Theoretical Probability(using poisson)']\n",
    "observations=sorted(d.keys())\n",
    "comp_d={header:[] for header in headers}\n",
    "comp_d['X=Number of Goals']=observations\n",
    "comp_d['Experimental Probability']=[d[key] for key in observations]\n",
    "comp_d['Theoretical Probability(using poisson)']=[d_poisson[key] for key in observations]\n",
    "comp_df=pd.DataFrame(comp_d)\n",
    "plot=comp_df.plot.bar(x=\"X=Number of Goals\", y=[\"Experimental Probability\", 'Theoretical Probability(using poisson)'],width=0.21)\n",
    "plt.xlabel('X = Number of goals')\n",
    "plt.ylabel('P(X=x)')\n",
    "fig = plot.get_figure()\n",
    "fig.savefig(\"output.png\")"
   ]
  },
  {
   "cell_type": "code",
   "execution_count": 197,
   "id": "6d350b07",
   "metadata": {},
   "outputs": [
    {
     "name": "stderr",
     "output_type": "stream",
     "text": [
      "[1012/072418.960257:ERROR:xattr.cc(63)] setxattr org.chromium.crashpad.database.initialized on file /var/folders/dv/8fd5wvd51f943n2b5_n527880000gn/T/: Operation not permitted (1)\n",
      "[1012/072418.960917:ERROR:file_io.cc(91)] ReadExactly: expected 8, observed 0\n",
      "[1012/072418.961660:ERROR:xattr.cc(63)] setxattr org.chromium.crashpad.database.initialized on file /var/folders/dv/8fd5wvd51f943n2b5_n527880000gn/T/: Operation not permitted (1)\n",
      "[1012/072419.516064:INFO:headless_shell.cc(653)] Written to file /var/folders/dv/8fd5wvd51f943n2b5_n527880000gn/T/tmpttudwixy/temp.png.\n"
     ]
    },
    {
     "data": {
      "text/html": [
       "<div>\n",
       "<style scoped>\n",
       "    .dataframe tbody tr th:only-of-type {\n",
       "        vertical-align: middle;\n",
       "    }\n",
       "\n",
       "    .dataframe tbody tr th {\n",
       "        vertical-align: top;\n",
       "    }\n",
       "\n",
       "    .dataframe thead th {\n",
       "        text-align: right;\n",
       "    }\n",
       "</style>\n",
       "<table border=\"1\" class=\"dataframe\">\n",
       "  <thead>\n",
       "    <tr style=\"text-align: right;\">\n",
       "      <th></th>\n",
       "      <th>X=Number of Goals</th>\n",
       "      <th>Experimental Probability</th>\n",
       "      <th>Theoretical Probability(using poisson)</th>\n",
       "    </tr>\n",
       "  </thead>\n",
       "  <tbody>\n",
       "    <tr>\n",
       "      <th>0</th>\n",
       "      <td>0</td>\n",
       "      <td>0.057895</td>\n",
       "      <td>0.059543</td>\n",
       "    </tr>\n",
       "    <tr>\n",
       "      <th>1</th>\n",
       "      <td>1</td>\n",
       "      <td>0.144737</td>\n",
       "      <td>0.167975</td>\n",
       "    </tr>\n",
       "    <tr>\n",
       "      <th>2</th>\n",
       "      <td>2</td>\n",
       "      <td>0.260526</td>\n",
       "      <td>0.236933</td>\n",
       "    </tr>\n",
       "    <tr>\n",
       "      <th>3</th>\n",
       "      <td>3</td>\n",
       "      <td>0.221053</td>\n",
       "      <td>0.222800</td>\n",
       "    </tr>\n",
       "    <tr>\n",
       "      <th>4</th>\n",
       "      <td>4</td>\n",
       "      <td>0.171053</td>\n",
       "      <td>0.157132</td>\n",
       "    </tr>\n",
       "    <tr>\n",
       "      <th>5</th>\n",
       "      <td>5</td>\n",
       "      <td>0.084211</td>\n",
       "      <td>0.088656</td>\n",
       "    </tr>\n",
       "    <tr>\n",
       "      <th>6</th>\n",
       "      <td>6</td>\n",
       "      <td>0.042105</td>\n",
       "      <td>0.041684</td>\n",
       "    </tr>\n",
       "    <tr>\n",
       "      <th>7</th>\n",
       "      <td>7</td>\n",
       "      <td>0.013158</td>\n",
       "      <td>0.016799</td>\n",
       "    </tr>\n",
       "    <tr>\n",
       "      <th>8</th>\n",
       "      <td>8</td>\n",
       "      <td>0.005263</td>\n",
       "      <td>0.005924</td>\n",
       "    </tr>\n",
       "  </tbody>\n",
       "</table>\n",
       "</div>"
      ],
      "text/plain": [
       "   X=Number of Goals  Experimental Probability  \\\n",
       "0                  0                  0.057895   \n",
       "1                  1                  0.144737   \n",
       "2                  2                  0.260526   \n",
       "3                  3                  0.221053   \n",
       "4                  4                  0.171053   \n",
       "5                  5                  0.084211   \n",
       "6                  6                  0.042105   \n",
       "7                  7                  0.013158   \n",
       "8                  8                  0.005263   \n",
       "\n",
       "   Theoretical Probability(using poisson)  \n",
       "0                                0.059543  \n",
       "1                                0.167975  \n",
       "2                                0.236933  \n",
       "3                                0.222800  \n",
       "4                                0.157132  \n",
       "5                                0.088656  \n",
       "6                                0.041684  \n",
       "7                                0.016799  \n",
       "8                                0.005924  "
      ]
     },
     "execution_count": 197,
     "metadata": {},
     "output_type": "execute_result"
    }
   ],
   "source": [
    "#Storing the dataframe image locally\n",
    "import pandas as pd\n",
    "import dataframe_image as dfi\n",
    "dfi.export(comp_df, 'dataframe.png')\n",
    "comp_df"
   ]
  },
  {
   "cell_type": "code",
   "execution_count": 201,
   "id": "c795da66",
   "metadata": {},
   "outputs": [
    {
     "data": {
      "image/png": "[encoded data removed]",
      "text/plain": [
       "<Figure size 432x288 with 1 Axes>"
      ]
     },
     "metadata": {
      "needs_background": "light"
     },
     "output_type": "display_data"
    }
   ],
   "source": [
    "import matplotlib.pyplot as plt\n",
    "ax1=comp_df.plot(x=\"X=Number of Goals\", y=[\"Experimental Probability\", 'Theoretical Probability(using poisson)'])\n",
    "ax2=comp_df.plot.scatter(x=\"X=Number of Goals\", y=\"Experimental Probability\", linewidth=5, ax=ax1)\n",
    "ax3=comp_df.plot.scatter(x=\"X=Number of Goals\", y='Theoretical Probability(using poisson)', color='orange', linewidth=5, ax=ax2)\n",
    "plt.xlabel('X = Number of goals')\n",
    "plt.ylabel('P(X=x)')\n",
    "fig = ax1.get_figure()\n",
    "fig.savefig(\"output2.png\")\n",
    "\n"
   ]
  },
  {
   "cell_type": "code",
   "execution_count": null,
   "id": "a27d0586",
   "metadata": {},
   "outputs": [],
   "source": [
    "\n"
   ]
  }
 ],
 "metadata": {
  "kernelspec": {
   "display_name": "Python 3 (ipykernel)",
   "language": "python",
   "name": "python3"
  },
  "language_info": {
   "codemirror_mode": {
    "name": "ipython",
    "version": 3
   },
   "file_extension": ".py",
   "mimetype": "text/x-python",
   "name": "python",
   "nbconvert_exporter": "python",
   "pygments_lexer": "ipython3",
   "version": "3.9.6"
  }
 },
 "nbformat": 4,
 "nbformat_minor": 5
}
